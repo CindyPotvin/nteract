{
  "cells": [
    {
      "cell_type": "code",
      "source": [
        "if () { sdfs sdfsd { sdfs sdfsd { sdfs sdfsd { sdfs sdfsd { sdfs sdfsd { sdfs sdfsd { sdfs sdfsd { sdfs sdfsd { sdfs sdfsd \n",
        "    blah\n",
        "    n\n",
        "    \n",
        "    j\n",
        "    }"
      ],
      "outputs": [],
      "execution_count": null,
      "metadata": {
        "collapsed": false,
        "jupyter": {
          "source_hidden": false,
          "outputs_hidden": false
        },
        "nteract": {
          "transient": {
            "deleting": false
          }
        }
      }
    }
  ],
  "metadata": {
    "kernel_info": {
      "name": "node_nteract"
    },
    "language_info": {
      "name": "node_nteract"
    },
    "kernelspec": {
      "argv": [
        "Z:\\OpenSource\\nteract\\nteract\\node_modules\\electron\\dist\\electron.exe",
        "Z:\\OpenSource\\nteract\\nteract\\applications\\desktop\\node_modules\\ijavascript\\lib\\kernel.js",
        "{connection_file}",
        "--protocol=5.0",
        "--hide-undefined"
      ],
      "display_name": "Node.js (nteract)",
      "env": {
        "ELECTRON_RUN_AS_NODE": "1",
        "NODE_PATH": "Z:\\OpenSource\\nteract\\nteract\\applications\\desktop\\node_modules"
      },
      "language": "javascript",
      "name": "node_nteract"
    },
    "nteract": {
      "version": "5.0.13"
    }
  },
  "nbformat": 4,
  "nbformat_minor": 0
}